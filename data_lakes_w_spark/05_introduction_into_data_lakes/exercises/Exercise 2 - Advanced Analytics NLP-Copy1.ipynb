{
 "cells": [
  {
   "cell_type": "markdown",
   "metadata": {},
   "source": [
    "# Exercise 2: Advanced Analytics NLP"
   ]
  },
  {
   "cell_type": "code",
   "execution_count": 1,
   "metadata": {
    "ExecuteTime": {
     "end_time": "2018-12-04T16:28:12.472305Z",
     "start_time": "2018-12-04T16:27:10.886061Z"
    }
   },
   "outputs": [
    {
     "output_type": "stream",
     "name": "stdout",
     "text": [
      "Collecting pyspark\n",
      "  Downloading pyspark-3.1.2.tar.gz (212.4 MB)\n",
      "\u001b[K     |████████████████████████████████| 212.4 MB 95 kB/s \n",
      "\u001b[?25hCollecting py4j==0.10.9\n",
      "  Downloading py4j-0.10.9-py2.py3-none-any.whl (198 kB)\n",
      "\u001b[K     |████████████████████████████████| 198 kB 4.1 MB/s \n",
      "\u001b[?25hBuilding wheels for collected packages: pyspark\n",
      "  Building wheel for pyspark (setup.py) ... \u001b[?25ldone\n",
      "\u001b[?25h  Created wheel for pyspark: filename=pyspark-3.1.2-py2.py3-none-any.whl size=212880770 sha256=e5385a32fa650a1a2188be731baa43841e93484eabc03d769b00f923fdc0bbb7\n",
      "  Stored in directory: /Users/Clemens/Library/Caches/pip/wheels/df/88/9e/58ef1f74892fef590330ca0830b5b6d995ba29b44f977b3926\n",
      "Successfully built pyspark\n",
      "Installing collected packages: py4j, pyspark\n",
      "Successfully installed py4j-0.10.9 pyspark-3.1.2\n",
      "Collecting spark-nlp==1.7.3\n",
      "  Downloading spark_nlp-1.7.3-py2.py3-none-any.whl (72.8 MB)\n",
      "\u001b[K     |████████████████████████████████| 72.8 MB 5.3 MB/s \n",
      "\u001b[?25hInstalling collected packages: spark-nlp\n",
      "Successfully installed spark-nlp-1.7.3\n"
     ]
    }
   ],
   "source": [
    "!pip install pyspark\n",
    "!pip install spark-nlp==1.7.3"
   ]
  },
  {
   "cell_type": "code",
   "execution_count": 2,
   "metadata": {
    "ExecuteTime": {
     "end_time": "2018-12-04T16:28:14.748410Z",
     "start_time": "2018-12-04T16:28:14.342555Z"
    }
   },
   "outputs": [],
   "source": [
    "import pandas as pd\n",
    "pd.set_option('max_colwidth', 800)"
   ]
  },
  {
   "cell_type": "markdown",
   "metadata": {},
   "source": [
    "# Create a spark context that includes a 3rd party jar for NLP"
   ]
  },
  {
   "cell_type": "code",
   "execution_count": 3,
   "metadata": {
    "ExecuteTime": {
     "end_time": "2018-12-04T16:28:35.841869Z",
     "start_time": "2018-12-04T16:28:31.934985Z"
    }
   },
   "outputs": [
    {
     "output_type": "execute_result",
     "data": {
      "text/plain": [
       "<pyspark.sql.session.SparkSession at 0x7fb5a41dc4c0>"
      ],
      "text/html": "\n            <div>\n                <p><b>SparkSession - in-memory</b></p>\n                \n        <div>\n            <p><b>SparkContext</b></p>\n\n            <p><a href=\"http://clemenss-mbp:4040\">Spark UI</a></p>\n\n            <dl>\n              <dt>Version</dt>\n                <dd><code>v3.1.2</code></dd>\n              <dt>Master</dt>\n                <dd><code>local[*]</code></dd>\n              <dt>AppName</dt>\n                <dd><code>pyspark-shell</code></dd>\n            </dl>\n        </div>\n        \n            </div>\n        "
     },
     "metadata": {},
     "execution_count": 3
    }
   ],
   "source": [
    "#jarPath = \"spark-nlp-assembly-1.7.3.jar\"\n",
    "\n",
    "from pyspark.sql import SparkSession\n",
    "spark = SparkSession.builder \\\n",
    "    .config(\"spark.jars.packages\", \"JohnSnowLabs:spark-nlp:1.8.2\")\\\n",
    "    .getOrCreate()\n",
    "spark"
   ]
  },
  {
   "cell_type": "markdown",
   "metadata": {},
   "source": [
    "# Read multiple files in a dir as one Dataframe"
   ]
  },
  {
   "cell_type": "code",
   "execution_count": 5,
   "metadata": {
    "ExecuteTime": {
     "end_time": "2018-12-04T16:28:40.343540Z",
     "start_time": "2018-12-04T16:28:35.844308Z"
    }
   },
   "outputs": [
    {
     "output_type": "stream",
     "name": "stdout",
     "text": [
      "100\nroot\n |-- data: struct (nullable = true)\n |    |-- approved_at_utc: string (nullable = true)\n |    |-- approved_by: string (nullable = true)\n |    |-- archived: boolean (nullable = true)\n |    |-- author: string (nullable = true)\n |    |-- author_flair_background_color: string (nullable = true)\n |    |-- author_flair_css_class: string (nullable = true)\n |    |-- author_flair_richtext: array (nullable = true)\n |    |    |-- element: string (containsNull = true)\n |    |-- author_flair_template_id: string (nullable = true)\n |    |-- author_flair_text: string (nullable = true)\n |    |-- author_flair_text_color: string (nullable = true)\n |    |-- author_flair_type: string (nullable = true)\n |    |-- author_fullname: string (nullable = true)\n |    |-- author_patreon_flair: boolean (nullable = true)\n |    |-- banned_at_utc: string (nullable = true)\n |    |-- banned_by: string (nullable = true)\n |    |-- can_gild: boolean (nullable = true)\n |    |-- can_mod_post: boolean (nullable = true)\n |    |-- category: string (nullable = true)\n |    |-- clicked: boolean (nullable = true)\n |    |-- content_categories: string (nullable = true)\n |    |-- contest_mode: boolean (nullable = true)\n |    |-- created: double (nullable = true)\n |    |-- created_utc: double (nullable = true)\n |    |-- crosspost_parent: string (nullable = true)\n |    |-- crosspost_parent_list: array (nullable = true)\n |    |    |-- element: struct (containsNull = true)\n |    |    |    |-- approved_at_utc: string (nullable = true)\n |    |    |    |-- approved_by: string (nullable = true)\n |    |    |    |-- archived: boolean (nullable = true)\n |    |    |    |-- author: string (nullable = true)\n |    |    |    |-- author_flair_background_color: string (nullable = true)\n |    |    |    |-- author_flair_css_class: string (nullable = true)\n |    |    |    |-- author_flair_richtext: array (nullable = true)\n |    |    |    |    |-- element: string (containsNull = true)\n |    |    |    |-- author_flair_template_id: string (nullable = true)\n |    |    |    |-- author_flair_text: string (nullable = true)\n |    |    |    |-- author_flair_text_color: string (nullable = true)\n |    |    |    |-- author_flair_type: string (nullable = true)\n |    |    |    |-- author_fullname: string (nullable = true)\n |    |    |    |-- author_patreon_flair: boolean (nullable = true)\n |    |    |    |-- banned_at_utc: string (nullable = true)\n |    |    |    |-- banned_by: string (nullable = true)\n |    |    |    |-- can_gild: boolean (nullable = true)\n |    |    |    |-- can_mod_post: boolean (nullable = true)\n |    |    |    |-- category: string (nullable = true)\n |    |    |    |-- clicked: boolean (nullable = true)\n |    |    |    |-- content_categories: string (nullable = true)\n |    |    |    |-- contest_mode: boolean (nullable = true)\n |    |    |    |-- created: double (nullable = true)\n |    |    |    |-- created_utc: double (nullable = true)\n |    |    |    |-- distinguished: string (nullable = true)\n |    |    |    |-- domain: string (nullable = true)\n |    |    |    |-- downs: long (nullable = true)\n |    |    |    |-- edited: boolean (nullable = true)\n |    |    |    |-- gilded: long (nullable = true)\n |    |    |    |-- gildings: struct (nullable = true)\n |    |    |    |    |-- gid_1: long (nullable = true)\n |    |    |    |    |-- gid_2: long (nullable = true)\n |    |    |    |    |-- gid_3: long (nullable = true)\n |    |    |    |-- hidden: boolean (nullable = true)\n |    |    |    |-- hide_score: boolean (nullable = true)\n |    |    |    |-- id: string (nullable = true)\n |    |    |    |-- is_crosspostable: boolean (nullable = true)\n |    |    |    |-- is_meta: boolean (nullable = true)\n |    |    |    |-- is_original_content: boolean (nullable = true)\n |    |    |    |-- is_reddit_media_domain: boolean (nullable = true)\n |    |    |    |-- is_robot_indexable: boolean (nullable = true)\n |    |    |    |-- is_self: boolean (nullable = true)\n |    |    |    |-- is_video: boolean (nullable = true)\n |    |    |    |-- likes: string (nullable = true)\n |    |    |    |-- link_flair_background_color: string (nullable = true)\n |    |    |    |-- link_flair_css_class: string (nullable = true)\n |    |    |    |-- link_flair_richtext: array (nullable = true)\n |    |    |    |    |-- element: string (containsNull = true)\n |    |    |    |-- link_flair_template_id: string (nullable = true)\n |    |    |    |-- link_flair_text: string (nullable = true)\n |    |    |    |-- link_flair_text_color: string (nullable = true)\n |    |    |    |-- link_flair_type: string (nullable = true)\n |    |    |    |-- locked: boolean (nullable = true)\n |    |    |    |-- media: string (nullable = true)\n |    |    |    |-- media_only: boolean (nullable = true)\n |    |    |    |-- mod_note: string (nullable = true)\n |    |    |    |-- mod_reason_by: string (nullable = true)\n |    |    |    |-- mod_reason_title: string (nullable = true)\n |    |    |    |-- mod_reports: array (nullable = true)\n |    |    |    |    |-- element: string (containsNull = true)\n |    |    |    |-- name: string (nullable = true)\n |    |    |    |-- no_follow: boolean (nullable = true)\n |    |    |    |-- num_comments: long (nullable = true)\n |    |    |    |-- num_crossposts: long (nullable = true)\n |    |    |    |-- num_reports: string (nullable = true)\n |    |    |    |-- over_18: boolean (nullable = true)\n |    |    |    |-- parent_whitelist_status: string (nullable = true)\n |    |    |    |-- permalink: string (nullable = true)\n |    |    |    |-- pinned: boolean (nullable = true)\n |    |    |    |-- pwls: long (nullable = true)\n |    |    |    |-- quarantine: boolean (nullable = true)\n |    |    |    |-- removal_reason: string (nullable = true)\n |    |    |    |-- report_reasons: string (nullable = true)\n |    |    |    |-- saved: boolean (nullable = true)\n |    |    |    |-- score: long (nullable = true)\n |    |    |    |-- secure_media: string (nullable = true)\n |    |    |    |-- selftext: string (nullable = true)\n |    |    |    |-- selftext_html: string (nullable = true)\n |    |    |    |-- send_replies: boolean (nullable = true)\n |    |    |    |-- spoiler: boolean (nullable = true)\n |    |    |    |-- stickied: boolean (nullable = true)\n |    |    |    |-- subreddit: string (nullable = true)\n |    |    |    |-- subreddit_id: string (nullable = true)\n |    |    |    |-- subreddit_name_prefixed: string (nullable = true)\n |    |    |    |-- subreddit_subscribers: long (nullable = true)\n |    |    |    |-- subreddit_type: string (nullable = true)\n |    |    |    |-- suggested_sort: string (nullable = true)\n |    |    |    |-- thumbnail: string (nullable = true)\n |    |    |    |-- title: string (nullable = true)\n |    |    |    |-- ups: long (nullable = true)\n |    |    |    |-- url: string (nullable = true)\n |    |    |    |-- user_reports: array (nullable = true)\n |    |    |    |    |-- element: string (containsNull = true)\n |    |    |    |-- view_count: string (nullable = true)\n |    |    |    |-- visited: boolean (nullable = true)\n |    |    |    |-- whitelist_status: string (nullable = true)\n |    |    |    |-- wls: long (nullable = true)\n |    |-- distinguished: string (nullable = true)\n |    |-- domain: string (nullable = true)\n |    |-- downs: long (nullable = true)\n |    |-- edited: boolean (nullable = true)\n |    |-- gilded: long (nullable = true)\n |    |-- gildings: struct (nullable = true)\n |    |    |-- gid_1: long (nullable = true)\n |    |    |-- gid_2: long (nullable = true)\n |    |    |-- gid_3: long (nullable = true)\n |    |-- hidden: boolean (nullable = true)\n |    |-- hide_score: boolean (nullable = true)\n |    |-- id: string (nullable = true)\n |    |-- is_crosspostable: boolean (nullable = true)\n |    |-- is_meta: boolean (nullable = true)\n |    |-- is_original_content: boolean (nullable = true)\n |    |-- is_reddit_media_domain: boolean (nullable = true)\n |    |-- is_robot_indexable: boolean (nullable = true)\n |    |-- is_self: boolean (nullable = true)\n |    |-- is_video: boolean (nullable = true)\n |    |-- likes: string (nullable = true)\n |    |-- link_flair_background_color: string (nullable = true)\n |    |-- link_flair_css_class: string (nullable = true)\n |    |-- link_flair_richtext: array (nullable = true)\n |    |    |-- element: string (containsNull = true)\n |    |-- link_flair_template_id: string (nullable = true)\n |    |-- link_flair_text: string (nullable = true)\n |    |-- link_flair_text_color: string (nullable = true)\n |    |-- link_flair_type: string (nullable = true)\n |    |-- locked: boolean (nullable = true)\n |    |-- media: string (nullable = true)\n |    |-- media_only: boolean (nullable = true)\n |    |-- mod_note: string (nullable = true)\n |    |-- mod_reason_by: string (nullable = true)\n |    |-- mod_reason_title: string (nullable = true)\n |    |-- mod_reports: array (nullable = true)\n |    |    |-- element: string (containsNull = true)\n |    |-- name: string (nullable = true)\n |    |-- no_follow: boolean (nullable = true)\n |    |-- num_comments: long (nullable = true)\n |    |-- num_crossposts: long (nullable = true)\n |    |-- num_reports: string (nullable = true)\n |    |-- over_18: boolean (nullable = true)\n |    |-- parent_whitelist_status: string (nullable = true)\n |    |-- permalink: string (nullable = true)\n |    |-- pinned: boolean (nullable = true)\n |    |-- pwls: long (nullable = true)\n |    |-- quarantine: boolean (nullable = true)\n |    |-- removal_reason: string (nullable = true)\n |    |-- report_reasons: string (nullable = true)\n |    |-- saved: boolean (nullable = true)\n |    |-- score: long (nullable = true)\n |    |-- secure_media: string (nullable = true)\n |    |-- selftext: string (nullable = true)\n |    |-- selftext_html: string (nullable = true)\n |    |-- send_replies: boolean (nullable = true)\n |    |-- spoiler: boolean (nullable = true)\n |    |-- stickied: boolean (nullable = true)\n |    |-- subreddit: string (nullable = true)\n |    |-- subreddit_id: string (nullable = true)\n |    |-- subreddit_name_prefixed: string (nullable = true)\n |    |-- subreddit_subscribers: long (nullable = true)\n |    |-- subreddit_type: string (nullable = true)\n |    |-- suggested_sort: string (nullable = true)\n |    |-- thumbnail: string (nullable = true)\n |    |-- title: string (nullable = true)\n |    |-- ups: long (nullable = true)\n |    |-- url: string (nullable = true)\n |    |-- user_reports: array (nullable = true)\n |    |    |-- element: string (containsNull = true)\n |    |-- view_count: string (nullable = true)\n |    |-- visited: boolean (nullable = true)\n |    |-- whitelist_status: string (nullable = true)\n |    |-- wls: long (nullable = true)\n |-- kind: string (nullable = true)\n\n"
     ]
    }
   ],
   "source": [
    "dataPath = \"../data/reddit/*.json\"\n",
    "df = spark.read.json(dataPath)\n",
    "print(df.count())\n",
    "df.printSchema()"
   ]
  },
  {
   "cell_type": "markdown",
   "metadata": {},
   "source": [
    "# Deal with Struct type to query subfields "
   ]
  },
  {
   "cell_type": "code",
   "execution_count": 12,
   "metadata": {
    "ExecuteTime": {
     "end_time": "2018-12-04T16:28:40.819564Z",
     "start_time": "2018-12-04T16:28:40.345335Z"
    }
   },
   "outputs": [
    {
     "output_type": "execute_result",
     "data": {
      "text/plain": [
       "                                                                                                                                                                                                                                                                                                    title  \\\n",
       "0                                                                                                                                                                   Microsoft Corp said it has discovered hacking targeting democratic institutions, think tanks, and non-profit organizations in Europe.   \n",
       "1                                                                                                                              Deutsche Bank reportedly planned to extend the dates of $340 million in loans to Trump Organization to avoid a potential nightmare of chasing a sitting president for cash   \n",
       "2  Iranian \"morality police\" were forced to fire warning shots when a crowd intervened to prevent them from arresting two women for not wearing a hijab. The incident occurred in Tehran's northeastern Narmak neighbourhood on Friday night, and ended with a mob tearing the door off a police vehicle.   \n",
       "3         Trump administration 'pushing Saudi nuclear deal' which could benefit company linked to Jared Kushner - Senior Trump administration officials pushed a project to share nuclear power technology with Saudi Arabia over the objections of ethics officials, according to a congressional report   \n",
       "4                                                                                                                                                                                            NASA Happily Reports the Earth is Greener, With More Trees Than 20 Years Ago–and It's Thanks to China, India   \n",
       "\n",
       "              author  \n",
       "0          jaykirsch  \n",
       "1      canuck_burger  \n",
       "2  honolulu_oahu_mod  \n",
       "3             madam1  \n",
       "4          purplexxx  "
      ],
      "text/html": "<div>\n<style scoped>\n    .dataframe tbody tr th:only-of-type {\n        vertical-align: middle;\n    }\n\n    .dataframe tbody tr th {\n        vertical-align: top;\n    }\n\n    .dataframe thead th {\n        text-align: right;\n    }\n</style>\n<table border=\"1\" class=\"dataframe\">\n  <thead>\n    <tr style=\"text-align: right;\">\n      <th></th>\n      <th>title</th>\n      <th>author</th>\n    </tr>\n  </thead>\n  <tbody>\n    <tr>\n      <th>0</th>\n      <td>Microsoft Corp said it has discovered hacking targeting democratic institutions, think tanks, and non-profit organizations in Europe.</td>\n      <td>jaykirsch</td>\n    </tr>\n    <tr>\n      <th>1</th>\n      <td>Deutsche Bank reportedly planned to extend the dates of $340 million in loans to Trump Organization to avoid a potential nightmare of chasing a sitting president for cash</td>\n      <td>canuck_burger</td>\n    </tr>\n    <tr>\n      <th>2</th>\n      <td>Iranian \"morality police\" were forced to fire warning shots when a crowd intervened to prevent them from arresting two women for not wearing a hijab. The incident occurred in Tehran's northeastern Narmak neighbourhood on Friday night, and ended with a mob tearing the door off a police vehicle.</td>\n      <td>honolulu_oahu_mod</td>\n    </tr>\n    <tr>\n      <th>3</th>\n      <td>Trump administration 'pushing Saudi nuclear deal' which could benefit company linked to Jared Kushner - Senior Trump administration officials pushed a project to share nuclear power technology with Saudi Arabia over the objections of ethics officials, according to a congressional report</td>\n      <td>madam1</td>\n    </tr>\n    <tr>\n      <th>4</th>\n      <td>NASA Happily Reports the Earth is Greener, With More Trees Than 20 Years Ago–and It's Thanks to China, India</td>\n      <td>purplexxx</td>\n    </tr>\n  </tbody>\n</table>\n</div>"
     },
     "metadata": {},
     "execution_count": 12
    }
   ],
   "source": [
    "title = \"data.title\"\n",
    "author = \"data.author\"\n",
    "dfAuthorTitle = df.select(title, author)\n",
    "dfAuthorTitle.limit(5).toPandas()"
   ]
  },
  {
   "cell_type": "markdown",
   "metadata": {},
   "source": [
    "# Try to implement the equivalent of flatMap in dataframes"
   ]
  },
  {
   "cell_type": "code",
   "execution_count": 7,
   "metadata": {
    "ExecuteTime": {
     "end_time": "2018-12-04T16:28:43.068755Z",
     "start_time": "2018-12-04T16:28:40.826537Z"
    }
   },
   "outputs": [
    {
     "output_type": "execute_result",
     "data": {
      "text/plain": [
       "  word  count\n",
       "0   to     58\n",
       "1  the     46\n",
       "2   of     42\n",
       "3   in     41\n",
       "4    a     25"
      ],
      "text/html": "<div>\n<style scoped>\n    .dataframe tbody tr th:only-of-type {\n        vertical-align: middle;\n    }\n\n    .dataframe tbody tr th {\n        vertical-align: top;\n    }\n\n    .dataframe thead th {\n        text-align: right;\n    }\n</style>\n<table border=\"1\" class=\"dataframe\">\n  <thead>\n    <tr style=\"text-align: right;\">\n      <th></th>\n      <th>word</th>\n      <th>count</th>\n    </tr>\n  </thead>\n  <tbody>\n    <tr>\n      <th>0</th>\n      <td>to</td>\n      <td>58</td>\n    </tr>\n    <tr>\n      <th>1</th>\n      <td>the</td>\n      <td>46</td>\n    </tr>\n    <tr>\n      <th>2</th>\n      <td>of</td>\n      <td>42</td>\n    </tr>\n    <tr>\n      <th>3</th>\n      <td>in</td>\n      <td>41</td>\n    </tr>\n    <tr>\n      <th>4</th>\n      <td>a</td>\n      <td>25</td>\n    </tr>\n  </tbody>\n</table>\n</div>"
     },
     "metadata": {},
     "execution_count": 7
    }
   ],
   "source": [
    "import pyspark.sql.functions as F\n",
    "\n",
    "dfWordCount = df.select(F.explode(F.split(title, ' ')).alias(\"word\")).groupBy(\"word\").count().orderBy(F.desc('count'))\n",
    "dfWordCount.limit(5).toPandas()"
   ]
  },
  {
   "cell_type": "markdown",
   "metadata": {},
   "source": [
    "# Use an NLP libary to do Part-of-Speech Tagging"
   ]
  },
  {
   "cell_type": "code",
   "execution_count": 14,
   "metadata": {
    "ExecuteTime": {
     "end_time": "2018-12-04T16:29:10.967990Z",
     "start_time": "2018-12-04T16:28:43.072151Z"
    }
   },
   "outputs": [
    {
     "output_type": "error",
     "ename": "Py4JJavaError",
     "evalue": "An error occurred while calling z:com.johnsnowlabs.nlp.pretrained.PythonResourceDownloader.downloadPipeline.\n: java.lang.NoClassDefFoundError: Could not initialize class com.johnsnowlabs.nlp.pretrained.PythonResourceDownloader$\n\tat com.johnsnowlabs.nlp.pretrained.PythonResourceDownloader.downloadPipeline(ResourceDownloader.scala)\n\tat sun.reflect.NativeMethodAccessorImpl.invoke0(Native Method)\n\tat sun.reflect.NativeMethodAccessorImpl.invoke(NativeMethodAccessorImpl.java:62)\n\tat sun.reflect.DelegatingMethodAccessorImpl.invoke(DelegatingMethodAccessorImpl.java:43)\n\tat java.lang.reflect.Method.invoke(Method.java:498)\n\tat py4j.reflection.MethodInvoker.invoke(MethodInvoker.java:244)\n\tat py4j.reflection.ReflectionEngine.invoke(ReflectionEngine.java:357)\n\tat py4j.Gateway.invoke(Gateway.java:282)\n\tat py4j.commands.AbstractCommand.invokeMethod(AbstractCommand.java:132)\n\tat py4j.commands.CallCommand.execute(CallCommand.java:79)\n\tat py4j.GatewayConnection.run(GatewayConnection.java:238)\n\tat java.lang.Thread.run(Thread.java:748)\n",
     "traceback": [
      "\u001b[0;31m---------------------------------------------------------------------------\u001b[0m",
      "\u001b[0;31mPy4JJavaError\u001b[0m                             Traceback (most recent call last)",
      "\u001b[0;32m<ipython-input-14-2b47932910ce>\u001b[0m in \u001b[0;36m<module>\u001b[0;34m\u001b[0m\n\u001b[1;32m      1\u001b[0m \u001b[0;32mfrom\u001b[0m \u001b[0mcom\u001b[0m\u001b[0;34m.\u001b[0m\u001b[0mjohnsnowlabs\u001b[0m\u001b[0;34m.\u001b[0m\u001b[0mnlp\u001b[0m\u001b[0;34m.\u001b[0m\u001b[0mpretrained\u001b[0m\u001b[0;34m.\u001b[0m\u001b[0mpipeline\u001b[0m\u001b[0;34m.\u001b[0m\u001b[0men\u001b[0m \u001b[0;32mimport\u001b[0m \u001b[0mBasicPipeline\u001b[0m \u001b[0;32mas\u001b[0m \u001b[0mbp\u001b[0m\u001b[0;34m\u001b[0m\u001b[0;34m\u001b[0m\u001b[0m\n\u001b[0;32m----> 2\u001b[0;31m \u001b[0mdfAnnotated\u001b[0m \u001b[0;34m=\u001b[0m \u001b[0mbp\u001b[0m\u001b[0;34m.\u001b[0m\u001b[0mannotate\u001b[0m\u001b[0;34m(\u001b[0m\u001b[0mdfAuthorTitle\u001b[0m\u001b[0;34m,\u001b[0m \u001b[0;34m\"title\"\u001b[0m\u001b[0;34m)\u001b[0m\u001b[0;34m\u001b[0m\u001b[0;34m\u001b[0m\u001b[0m\n\u001b[0m\u001b[1;32m      3\u001b[0m \u001b[0mdfAnnotated\u001b[0m\u001b[0;34m.\u001b[0m\u001b[0mprintSchema\u001b[0m\u001b[0;34m(\u001b[0m\u001b[0;34m)\u001b[0m\u001b[0;34m\u001b[0m\u001b[0;34m\u001b[0m\u001b[0m\n",
      "\u001b[0;32m/private/var/folders/xw/ct5hrjjn33xfwycx65ddd8sc0000gn/T/spark-848ee440-8011-4416-a0cf-2a32c7e6c08f/userFiles-9b646799-b33b-4fcf-b160-537ef4412c8d/JohnSnowLabs_spark-nlp-1.8.2.jar/sparknlp/pretrained/pipeline/en.py\u001b[0m in \u001b[0;36mannotate\u001b[0;34m(target, target_column)\u001b[0m\n\u001b[1;32m     23\u001b[0m     \u001b[0;34m@\u001b[0m\u001b[0mstaticmethod\u001b[0m\u001b[0;34m\u001b[0m\u001b[0;34m\u001b[0m\u001b[0m\n\u001b[1;32m     24\u001b[0m     \u001b[0;32mdef\u001b[0m \u001b[0mannotate\u001b[0m\u001b[0;34m(\u001b[0m\u001b[0mtarget\u001b[0m\u001b[0;34m,\u001b[0m \u001b[0mtarget_column\u001b[0m\u001b[0;34m=\u001b[0m\u001b[0;32mNone\u001b[0m\u001b[0;34m)\u001b[0m\u001b[0;34m:\u001b[0m\u001b[0;34m\u001b[0m\u001b[0;34m\u001b[0m\u001b[0m\n\u001b[0;32m---> 25\u001b[0;31m         \u001b[0;32mreturn\u001b[0m \u001b[0m_Model\u001b[0m\u001b[0;34m.\u001b[0m\u001b[0mannotate\u001b[0m\u001b[0;34m(\u001b[0m\u001b[0mBasicPipeline\u001b[0m\u001b[0;34m,\u001b[0m \u001b[0;34m\"pipeline_basic\"\u001b[0m\u001b[0;34m,\u001b[0m \u001b[0mtarget\u001b[0m\u001b[0;34m,\u001b[0m \u001b[0mtarget_column\u001b[0m\u001b[0;34m)\u001b[0m\u001b[0;34m\u001b[0m\u001b[0;34m\u001b[0m\u001b[0m\n\u001b[0m\u001b[1;32m     26\u001b[0m \u001b[0;34m\u001b[0m\u001b[0m\n\u001b[1;32m     27\u001b[0m     \u001b[0;34m@\u001b[0m\u001b[0mstaticmethod\u001b[0m\u001b[0;34m\u001b[0m\u001b[0;34m\u001b[0m\u001b[0m\n",
      "\u001b[0;32m/private/var/folders/xw/ct5hrjjn33xfwycx65ddd8sc0000gn/T/spark-848ee440-8011-4416-a0cf-2a32c7e6c08f/userFiles-9b646799-b33b-4fcf-b160-537ef4412c8d/JohnSnowLabs_spark-nlp-1.8.2.jar/sparknlp/pretrained/pipeline/en.py\u001b[0m in \u001b[0;36mannotate\u001b[0;34m(model_class, name, target, target_column)\u001b[0m\n\u001b[1;32m      8\u001b[0m     \u001b[0;32mdef\u001b[0m \u001b[0mannotate\u001b[0m\u001b[0;34m(\u001b[0m\u001b[0mmodel_class\u001b[0m\u001b[0;34m,\u001b[0m \u001b[0mname\u001b[0m\u001b[0;34m,\u001b[0m \u001b[0mtarget\u001b[0m\u001b[0;34m,\u001b[0m \u001b[0mtarget_column\u001b[0m\u001b[0;34m=\u001b[0m\u001b[0;32mNone\u001b[0m\u001b[0;34m)\u001b[0m\u001b[0;34m:\u001b[0m\u001b[0;34m\u001b[0m\u001b[0;34m\u001b[0m\u001b[0m\n\u001b[1;32m      9\u001b[0m         \u001b[0;32mif\u001b[0m \u001b[0;32mnot\u001b[0m \u001b[0mmodel_class\u001b[0m\u001b[0;34m.\u001b[0m\u001b[0mmodel\u001b[0m\u001b[0;34m:\u001b[0m\u001b[0;34m\u001b[0m\u001b[0;34m\u001b[0m\u001b[0m\n\u001b[0;32m---> 10\u001b[0;31m             \u001b[0mmodel_class\u001b[0m\u001b[0;34m.\u001b[0m\u001b[0mmodel\u001b[0m \u001b[0;34m=\u001b[0m \u001b[0mResourceDownloader\u001b[0m\u001b[0;34m(\u001b[0m\u001b[0;34m)\u001b[0m\u001b[0;34m.\u001b[0m\u001b[0mdownloadPipeline\u001b[0m\u001b[0;34m(\u001b[0m\u001b[0mname\u001b[0m\u001b[0;34m,\u001b[0m \u001b[0;34m\"en\"\u001b[0m\u001b[0;34m)\u001b[0m\u001b[0;34m\u001b[0m\u001b[0;34m\u001b[0m\u001b[0m\n\u001b[0m\u001b[1;32m     11\u001b[0m         \u001b[0;32mif\u001b[0m \u001b[0mtype\u001b[0m\u001b[0;34m(\u001b[0m\u001b[0mtarget\u001b[0m\u001b[0;34m)\u001b[0m \u001b[0;32mis\u001b[0m \u001b[0mpyspark\u001b[0m\u001b[0;34m.\u001b[0m\u001b[0msql\u001b[0m\u001b[0;34m.\u001b[0m\u001b[0mdataframe\u001b[0m\u001b[0;34m.\u001b[0m\u001b[0mDataFrame\u001b[0m\u001b[0;34m:\u001b[0m\u001b[0;34m\u001b[0m\u001b[0;34m\u001b[0m\u001b[0m\n\u001b[1;32m     12\u001b[0m             \u001b[0;32mif\u001b[0m \u001b[0;32mnot\u001b[0m \u001b[0mtarget_column\u001b[0m\u001b[0;34m:\u001b[0m\u001b[0;34m\u001b[0m\u001b[0;34m\u001b[0m\u001b[0m\n",
      "\u001b[0;32m/private/var/folders/xw/ct5hrjjn33xfwycx65ddd8sc0000gn/T/spark-848ee440-8011-4416-a0cf-2a32c7e6c08f/userFiles-9b646799-b33b-4fcf-b160-537ef4412c8d/JohnSnowLabs_spark-nlp-1.8.2.jar/sparknlp/pretrained/__init__.py\u001b[0m in \u001b[0;36mdownloadPipeline\u001b[0;34m(name, language, remote_loc)\u001b[0m\n\u001b[1;32m     14\u001b[0m     \u001b[0;34m@\u001b[0m\u001b[0mstaticmethod\u001b[0m\u001b[0;34m\u001b[0m\u001b[0;34m\u001b[0m\u001b[0m\n\u001b[1;32m     15\u001b[0m     \u001b[0;32mdef\u001b[0m \u001b[0mdownloadPipeline\u001b[0m\u001b[0;34m(\u001b[0m\u001b[0mname\u001b[0m\u001b[0;34m,\u001b[0m \u001b[0mlanguage\u001b[0m\u001b[0;34m,\u001b[0m \u001b[0mremote_loc\u001b[0m\u001b[0;34m=\u001b[0m\u001b[0;32mNone\u001b[0m\u001b[0;34m)\u001b[0m\u001b[0;34m:\u001b[0m\u001b[0;34m\u001b[0m\u001b[0;34m\u001b[0m\u001b[0m\n\u001b[0;32m---> 16\u001b[0;31m         \u001b[0mj_obj\u001b[0m \u001b[0;34m=\u001b[0m \u001b[0m_internal\u001b[0m\u001b[0;34m.\u001b[0m\u001b[0m_DownloadPipeline\u001b[0m\u001b[0;34m(\u001b[0m\u001b[0mname\u001b[0m\u001b[0;34m,\u001b[0m \u001b[0mlanguage\u001b[0m\u001b[0;34m,\u001b[0m \u001b[0mremote_loc\u001b[0m\u001b[0;34m)\u001b[0m\u001b[0;34m.\u001b[0m\u001b[0mapply\u001b[0m\u001b[0;34m(\u001b[0m\u001b[0;34m)\u001b[0m\u001b[0;34m\u001b[0m\u001b[0;34m\u001b[0m\u001b[0m\n\u001b[0m\u001b[1;32m     17\u001b[0m         \u001b[0mjmodel\u001b[0m \u001b[0;34m=\u001b[0m \u001b[0mJavaModel\u001b[0m\u001b[0;34m(\u001b[0m\u001b[0mj_obj\u001b[0m\u001b[0;34m)\u001b[0m\u001b[0;34m\u001b[0m\u001b[0;34m\u001b[0m\u001b[0m\n\u001b[1;32m     18\u001b[0m         \u001b[0;32mreturn\u001b[0m \u001b[0mjmodel\u001b[0m\u001b[0;34m\u001b[0m\u001b[0;34m\u001b[0m\u001b[0m\n",
      "\u001b[0;32m/private/var/folders/xw/ct5hrjjn33xfwycx65ddd8sc0000gn/T/spark-848ee440-8011-4416-a0cf-2a32c7e6c08f/userFiles-9b646799-b33b-4fcf-b160-537ef4412c8d/JohnSnowLabs_spark-nlp-1.8.2.jar/sparknlp/internal.py\u001b[0m in \u001b[0;36m__init__\u001b[0;34m(self, name, language, remote_loc)\u001b[0m\n\u001b[1;32m     63\u001b[0m     \u001b[0;32mdef\u001b[0m \u001b[0m__init__\u001b[0m\u001b[0;34m(\u001b[0m\u001b[0mself\u001b[0m\u001b[0;34m,\u001b[0m \u001b[0mname\u001b[0m\u001b[0;34m,\u001b[0m \u001b[0mlanguage\u001b[0m\u001b[0;34m,\u001b[0m \u001b[0mremote_loc\u001b[0m\u001b[0;34m)\u001b[0m\u001b[0;34m:\u001b[0m\u001b[0;34m\u001b[0m\u001b[0;34m\u001b[0m\u001b[0m\n\u001b[1;32m     64\u001b[0m         \u001b[0msuper\u001b[0m\u001b[0;34m(\u001b[0m\u001b[0m_DownloadPipeline\u001b[0m\u001b[0;34m,\u001b[0m \u001b[0mself\u001b[0m\u001b[0;34m)\u001b[0m\u001b[0;34m.\u001b[0m\u001b[0m__init__\u001b[0m\u001b[0;34m(\u001b[0m\u001b[0;34m\"com.johnsnowlabs.nlp.pretrained.PythonResourceDownloader.downloadPipeline\"\u001b[0m\u001b[0;34m)\u001b[0m\u001b[0;34m\u001b[0m\u001b[0;34m\u001b[0m\u001b[0m\n\u001b[0;32m---> 65\u001b[0;31m         \u001b[0mself\u001b[0m\u001b[0;34m.\u001b[0m\u001b[0m_java_obj\u001b[0m \u001b[0;34m=\u001b[0m \u001b[0mself\u001b[0m\u001b[0;34m.\u001b[0m\u001b[0m_new_java_obj\u001b[0m\u001b[0;34m(\u001b[0m\u001b[0mself\u001b[0m\u001b[0;34m.\u001b[0m\u001b[0m_java_obj\u001b[0m\u001b[0;34m,\u001b[0m \u001b[0mname\u001b[0m\u001b[0;34m,\u001b[0m \u001b[0mlanguage\u001b[0m\u001b[0;34m,\u001b[0m \u001b[0mremote_loc\u001b[0m\u001b[0;34m)\u001b[0m\u001b[0;34m\u001b[0m\u001b[0;34m\u001b[0m\u001b[0m\n\u001b[0m\u001b[1;32m     66\u001b[0m \u001b[0;34m\u001b[0m\u001b[0m\n\u001b[1;32m     67\u001b[0m \u001b[0;34m\u001b[0m\u001b[0m\n",
      "\u001b[0;32m~/opt/anaconda3/lib/python3.8/site-packages/pyspark/ml/wrapper.py\u001b[0m in \u001b[0;36m_new_java_obj\u001b[0;34m(java_class, *args)\u001b[0m\n\u001b[1;32m     64\u001b[0m             \u001b[0mjava_obj\u001b[0m \u001b[0;34m=\u001b[0m \u001b[0mgetattr\u001b[0m\u001b[0;34m(\u001b[0m\u001b[0mjava_obj\u001b[0m\u001b[0;34m,\u001b[0m \u001b[0mname\u001b[0m\u001b[0;34m)\u001b[0m\u001b[0;34m\u001b[0m\u001b[0;34m\u001b[0m\u001b[0m\n\u001b[1;32m     65\u001b[0m         \u001b[0mjava_args\u001b[0m \u001b[0;34m=\u001b[0m \u001b[0;34m[\u001b[0m\u001b[0m_py2java\u001b[0m\u001b[0;34m(\u001b[0m\u001b[0msc\u001b[0m\u001b[0;34m,\u001b[0m \u001b[0marg\u001b[0m\u001b[0;34m)\u001b[0m \u001b[0;32mfor\u001b[0m \u001b[0marg\u001b[0m \u001b[0;32min\u001b[0m \u001b[0margs\u001b[0m\u001b[0;34m]\u001b[0m\u001b[0;34m\u001b[0m\u001b[0;34m\u001b[0m\u001b[0m\n\u001b[0;32m---> 66\u001b[0;31m         \u001b[0;32mreturn\u001b[0m \u001b[0mjava_obj\u001b[0m\u001b[0;34m(\u001b[0m\u001b[0;34m*\u001b[0m\u001b[0mjava_args\u001b[0m\u001b[0;34m)\u001b[0m\u001b[0;34m\u001b[0m\u001b[0;34m\u001b[0m\u001b[0m\n\u001b[0m\u001b[1;32m     67\u001b[0m \u001b[0;34m\u001b[0m\u001b[0m\n\u001b[1;32m     68\u001b[0m     \u001b[0;34m@\u001b[0m\u001b[0mstaticmethod\u001b[0m\u001b[0;34m\u001b[0m\u001b[0;34m\u001b[0m\u001b[0m\n",
      "\u001b[0;32m~/opt/anaconda3/lib/python3.8/site-packages/py4j/java_gateway.py\u001b[0m in \u001b[0;36m__call__\u001b[0;34m(self, *args)\u001b[0m\n\u001b[1;32m   1302\u001b[0m \u001b[0;34m\u001b[0m\u001b[0m\n\u001b[1;32m   1303\u001b[0m         \u001b[0manswer\u001b[0m \u001b[0;34m=\u001b[0m \u001b[0mself\u001b[0m\u001b[0;34m.\u001b[0m\u001b[0mgateway_client\u001b[0m\u001b[0;34m.\u001b[0m\u001b[0msend_command\u001b[0m\u001b[0;34m(\u001b[0m\u001b[0mcommand\u001b[0m\u001b[0;34m)\u001b[0m\u001b[0;34m\u001b[0m\u001b[0;34m\u001b[0m\u001b[0m\n\u001b[0;32m-> 1304\u001b[0;31m         return_value = get_return_value(\n\u001b[0m\u001b[1;32m   1305\u001b[0m             answer, self.gateway_client, self.target_id, self.name)\n\u001b[1;32m   1306\u001b[0m \u001b[0;34m\u001b[0m\u001b[0m\n",
      "\u001b[0;32m~/opt/anaconda3/lib/python3.8/site-packages/pyspark/sql/utils.py\u001b[0m in \u001b[0;36mdeco\u001b[0;34m(*a, **kw)\u001b[0m\n\u001b[1;32m    109\u001b[0m     \u001b[0;32mdef\u001b[0m \u001b[0mdeco\u001b[0m\u001b[0;34m(\u001b[0m\u001b[0;34m*\u001b[0m\u001b[0ma\u001b[0m\u001b[0;34m,\u001b[0m \u001b[0;34m**\u001b[0m\u001b[0mkw\u001b[0m\u001b[0;34m)\u001b[0m\u001b[0;34m:\u001b[0m\u001b[0;34m\u001b[0m\u001b[0;34m\u001b[0m\u001b[0m\n\u001b[1;32m    110\u001b[0m         \u001b[0;32mtry\u001b[0m\u001b[0;34m:\u001b[0m\u001b[0;34m\u001b[0m\u001b[0;34m\u001b[0m\u001b[0m\n\u001b[0;32m--> 111\u001b[0;31m             \u001b[0;32mreturn\u001b[0m \u001b[0mf\u001b[0m\u001b[0;34m(\u001b[0m\u001b[0;34m*\u001b[0m\u001b[0ma\u001b[0m\u001b[0;34m,\u001b[0m \u001b[0;34m**\u001b[0m\u001b[0mkw\u001b[0m\u001b[0;34m)\u001b[0m\u001b[0;34m\u001b[0m\u001b[0;34m\u001b[0m\u001b[0m\n\u001b[0m\u001b[1;32m    112\u001b[0m         \u001b[0;32mexcept\u001b[0m \u001b[0mpy4j\u001b[0m\u001b[0;34m.\u001b[0m\u001b[0mprotocol\u001b[0m\u001b[0;34m.\u001b[0m\u001b[0mPy4JJavaError\u001b[0m \u001b[0;32mas\u001b[0m \u001b[0me\u001b[0m\u001b[0;34m:\u001b[0m\u001b[0;34m\u001b[0m\u001b[0;34m\u001b[0m\u001b[0m\n\u001b[1;32m    113\u001b[0m             \u001b[0mconverted\u001b[0m \u001b[0;34m=\u001b[0m \u001b[0mconvert_exception\u001b[0m\u001b[0;34m(\u001b[0m\u001b[0me\u001b[0m\u001b[0;34m.\u001b[0m\u001b[0mjava_exception\u001b[0m\u001b[0;34m)\u001b[0m\u001b[0;34m\u001b[0m\u001b[0;34m\u001b[0m\u001b[0m\n",
      "\u001b[0;32m~/opt/anaconda3/lib/python3.8/site-packages/py4j/protocol.py\u001b[0m in \u001b[0;36mget_return_value\u001b[0;34m(answer, gateway_client, target_id, name)\u001b[0m\n\u001b[1;32m    324\u001b[0m             \u001b[0mvalue\u001b[0m \u001b[0;34m=\u001b[0m \u001b[0mOUTPUT_CONVERTER\u001b[0m\u001b[0;34m[\u001b[0m\u001b[0mtype\u001b[0m\u001b[0;34m]\u001b[0m\u001b[0;34m(\u001b[0m\u001b[0manswer\u001b[0m\u001b[0;34m[\u001b[0m\u001b[0;36m2\u001b[0m\u001b[0;34m:\u001b[0m\u001b[0;34m]\u001b[0m\u001b[0;34m,\u001b[0m \u001b[0mgateway_client\u001b[0m\u001b[0;34m)\u001b[0m\u001b[0;34m\u001b[0m\u001b[0;34m\u001b[0m\u001b[0m\n\u001b[1;32m    325\u001b[0m             \u001b[0;32mif\u001b[0m \u001b[0manswer\u001b[0m\u001b[0;34m[\u001b[0m\u001b[0;36m1\u001b[0m\u001b[0;34m]\u001b[0m \u001b[0;34m==\u001b[0m \u001b[0mREFERENCE_TYPE\u001b[0m\u001b[0;34m:\u001b[0m\u001b[0;34m\u001b[0m\u001b[0;34m\u001b[0m\u001b[0m\n\u001b[0;32m--> 326\u001b[0;31m                 raise Py4JJavaError(\n\u001b[0m\u001b[1;32m    327\u001b[0m                     \u001b[0;34m\"An error occurred while calling {0}{1}{2}.\\n\"\u001b[0m\u001b[0;34m.\u001b[0m\u001b[0;34m\u001b[0m\u001b[0;34m\u001b[0m\u001b[0m\n\u001b[1;32m    328\u001b[0m                     format(target_id, \".\", name), value)\n",
      "\u001b[0;31mPy4JJavaError\u001b[0m: An error occurred while calling z:com.johnsnowlabs.nlp.pretrained.PythonResourceDownloader.downloadPipeline.\n: java.lang.NoClassDefFoundError: Could not initialize class com.johnsnowlabs.nlp.pretrained.PythonResourceDownloader$\n\tat com.johnsnowlabs.nlp.pretrained.PythonResourceDownloader.downloadPipeline(ResourceDownloader.scala)\n\tat sun.reflect.NativeMethodAccessorImpl.invoke0(Native Method)\n\tat sun.reflect.NativeMethodAccessorImpl.invoke(NativeMethodAccessorImpl.java:62)\n\tat sun.reflect.DelegatingMethodAccessorImpl.invoke(DelegatingMethodAccessorImpl.java:43)\n\tat java.lang.reflect.Method.invoke(Method.java:498)\n\tat py4j.reflection.MethodInvoker.invoke(MethodInvoker.java:244)\n\tat py4j.reflection.ReflectionEngine.invoke(ReflectionEngine.java:357)\n\tat py4j.Gateway.invoke(Gateway.java:282)\n\tat py4j.commands.AbstractCommand.invokeMethod(AbstractCommand.java:132)\n\tat py4j.commands.CallCommand.execute(CallCommand.java:79)\n\tat py4j.GatewayConnection.run(GatewayConnection.java:238)\n\tat java.lang.Thread.run(Thread.java:748)\n"
     ]
    }
   ],
   "source": [
    "from com.johnsnowlabs.nlp.pretrained.pipeline.en import BasicPipeline as bp\n",
    "dfAnnotated = bp.annotate(dfAuthorTitle, \"title\")\n",
    "dfAnnotated.printSchema()"
   ]
  },
  {
   "cell_type": "code",
   "execution_count": 13,
   "metadata": {},
   "outputs": [
    {
     "output_type": "execute_result",
     "data": {
      "text/plain": [
       "[Row(title='Microsoft Corp said it has discovered hacking targeting democratic institutions, think tanks, and non-profit organizations in Europe.', author='jaykirsch')]"
      ]
     },
     "metadata": {},
     "execution_count": 13
    }
   ],
   "source": [
    "dfAuthorTitle.head(1)"
   ]
  },
  {
   "cell_type": "markdown",
   "metadata": {},
   "source": [
    "## Deal with Map type to query subfields"
   ]
  },
  {
   "cell_type": "code",
   "execution_count": null,
   "metadata": {
    "ExecuteTime": {
     "end_time": "2018-12-04T16:29:11.430140Z",
     "start_time": "2018-12-04T16:29:10.973865Z"
    }
   },
   "outputs": [],
   "source": [
    "dfPos = dfAnnotated.select(\"text\", \"pos.metadata\", \"pos.result\")\n",
    "dfPos.limit(5).toPandas()"
   ]
  },
  {
   "cell_type": "code",
   "execution_count": null,
   "metadata": {
    "ExecuteTime": {
     "end_time": "2018-12-04T16:29:12.012202Z",
     "start_time": "2018-12-04T16:29:11.432322Z"
    }
   },
   "outputs": [],
   "source": [
    "dfPos= dfAnnotated.select(F.explode(\"pos\").alias(\"pos\"))\n",
    "dfPos.printSchema()\n",
    "dfPos.toPandas()"
   ]
  },
  {
   "cell_type": "markdown",
   "metadata": {},
   "source": [
    "## Keep only proper nouns NNP or NNPS"
   ]
  },
  {
   "cell_type": "code",
   "execution_count": null,
   "metadata": {
    "ExecuteTime": {
     "end_time": "2018-12-04T16:29:12.551881Z",
     "start_time": "2018-12-04T16:29:12.014196Z"
    }
   },
   "outputs": [],
   "source": [
    "nnpFilter = \"pos.result = 'NNP' or pos.result = 'NNPS' \"\n",
    "dfNNP = dfPos.where(nnpFilter)\n",
    "dfNNP.limit(10).toPandas()"
   ]
  },
  {
   "cell_type": "markdown",
   "metadata": {},
   "source": [
    "## Extract columns form a map in a col"
   ]
  },
  {
   "cell_type": "code",
   "execution_count": null,
   "metadata": {
    "ExecuteTime": {
     "end_time": "2018-12-04T16:29:12.811100Z",
     "start_time": "2018-12-04T16:29:12.556429Z"
    }
   },
   "outputs": [],
   "source": [
    "dfWordTag = dfNNP.selectExpr(\"pos.metadata['word'] as word\", \"pos.result as tag\")\n",
    "dfWordTag.limit(10).toPandas()"
   ]
  },
  {
   "cell_type": "code",
   "execution_count": null,
   "metadata": {},
   "outputs": [],
   "source": [
    "from pyspark.sql.functions import desc\n",
    "dfWordTag.groupBy(\"word\").count().orderBy(desc(\"count\")).show()"
   ]
  }
 ],
 "metadata": {
  "kernelspec": {
   "name": "python383jvsc74a57bd048032bae97d387c4116e2caa7d75d6f2deb3f388c3753207b71bc667609b20c4",
   "display_name": "Python 3.8.3 64-bit ('base': conda)"
  },
  "language_info": {
   "codemirror_mode": {
    "name": "ipython",
    "version": 3
   },
   "file_extension": ".py",
   "mimetype": "text/x-python",
   "name": "python",
   "nbconvert_exporter": "python",
   "pygments_lexer": "ipython3",
   "version": "3.8.3"
  },
  "toc": {
   "base_numbering": 1,
   "nav_menu": {
    "height": "84px",
    "width": "160px"
   },
   "number_sections": false,
   "sideBar": true,
   "skip_h1_title": false,
   "title_cell": "Table of Contents",
   "title_sidebar": "Contents",
   "toc_cell": false,
   "toc_position": {
    "height": "calc(100% - 180px)",
    "left": "10px",
    "top": "150px",
    "width": "236px"
   },
   "toc_section_display": true,
   "toc_window_display": false
  }
 },
 "nbformat": 4,
 "nbformat_minor": 2
}